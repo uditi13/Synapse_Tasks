{
  "nbformat": 4,
  "nbformat_minor": 0,
  "metadata": {
    "colab": {
      "name": "Task_2_Bicycle_project",
      "provenance": [],
      "collapsed_sections": [],
      "authorship_tag": "ABX9TyMZgDDv88L1bNvZpOqwU/tt",
      "include_colab_link": true
    },
    "kernelspec": {
      "name": "python3",
      "display_name": "Python 3"
    }
  },
  "cells": [
    {
      "cell_type": "markdown",
      "metadata": {
        "id": "view-in-github",
        "colab_type": "text"
      },
      "source": [
        "<a href=\"https://colab.research.google.com/github/uditi13/Synapse_Tasks/blob/master/Task_2_Bicycle_project.ipynb\" target=\"_parent\"><img src=\"https://colab.research.google.com/assets/colab-badge.svg\" alt=\"Open In Colab\"/></a>"
      ]
    },
    {
      "cell_type": "code",
      "metadata": {
        "id": "gq2y5IVqZ81f",
        "colab_type": "code",
        "colab": {}
      },
      "source": [
        "import numpy as np\n",
        "import pandas as pd\n",
        "import seaborn as sns\n",
        "import matplotlib.pyplot as plt\n",
        "%matplotlib inline\n",
        "import pandas.testing as tm"
      ],
      "execution_count": null,
      "outputs": []
    },
    {
      "cell_type": "code",
      "metadata": {
        "id": "O6O6QBryGNCK",
        "colab_type": "code",
        "colab": {
          "resources": {
            "http://localhost:8080/nbextensions/google.colab/files.js": {
              "data": "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",
              "ok": true,
              "headers": [
                [
                  "content-type",
                  "application/javascript"
                ]
              ],
              "status": 200,
              "status_text": ""
            }
          },
          "base_uri": "https://localhost:8080/",
          "height": 73
        },
        "outputId": "1f87beb0-9325-48a6-854c-aa4ee3171254"
      },
      "source": [
        "from google.colab import files\n",
        "uploaded = files.upload()"
      ],
      "execution_count": 2,
      "outputs": [
        {
          "output_type": "display_data",
          "data": {
            "text/html": [
              "\n",
              "     <input type=\"file\" id=\"files-ba659319-7169-4fc0-b302-06a403cc22fa\" name=\"files[]\" multiple disabled\n",
              "        style=\"border:none\" />\n",
              "     <output id=\"result-ba659319-7169-4fc0-b302-06a403cc22fa\">\n",
              "      Upload widget is only available when the cell has been executed in the\n",
              "      current browser session. Please rerun this cell to enable.\n",
              "      </output>\n",
              "      <script src=\"/nbextensions/google.colab/files.js\"></script> "
            ],
            "text/plain": [
              "<IPython.core.display.HTML object>"
            ]
          },
          "metadata": {
            "tags": []
          }
        },
        {
          "output_type": "stream",
          "text": [
            "Saving data.json to data.json\n"
          ],
          "name": "stdout"
        }
      ]
    },
    {
      "cell_type": "code",
      "metadata": {
        "id": "07xoutKKawPQ",
        "colab_type": "code",
        "colab": {}
      },
      "source": [
        "df = pd.read_json(\"//content//data.json\", orient = 'split')"
      ],
      "execution_count": 3,
      "outputs": []
    },
    {
      "cell_type": "code",
      "metadata": {
        "id": "0wAPQSVra-vL",
        "colab_type": "code",
        "colab": {
          "base_uri": "https://localhost:8080/",
          "height": 252
        },
        "outputId": "9c5ea4ca-0d46-4bda-d65a-4a69149c6515"
      },
      "source": [
        "print(df)"
      ],
      "execution_count": 4,
      "outputs": [
        {
          "output_type": "stream",
          "text": [
            "          category  ... amount\n",
            "0           Sports  ...    NaN\n",
            "1       Technology  ...    NaN\n",
            "2      Environment  ...    NaN\n",
            "3       Technology  ...    NaN\n",
            "4           Sports  ...    NaN\n",
            "...            ...  ...    ...\n",
            "49995       Sports  ...   35.0\n",
            "49996   Technology  ...    NaN\n",
            "49997      Fashion  ...    NaN\n",
            "49998       Sports  ...   37.0\n",
            "49999      Fashion  ...    NaN\n",
            "\n",
            "[50000 rows x 10 columns]\n"
          ],
          "name": "stdout"
        }
      ]
    },
    {
      "cell_type": "code",
      "metadata": {
        "id": "HA57SOLBbfsL",
        "colab_type": "code",
        "colab": {
          "base_uri": "https://localhost:8080/",
          "height": 1000
        },
        "outputId": "8e359415-f7b7-49e9-caf2-0c2464806bd3"
      },
      "source": [
        "df.head(10)"
      ],
      "execution_count": 5,
      "outputs": [
        {
          "output_type": "execute_result",
          "data": {
            "text/html": [
              "<div>\n",
              "<style scoped>\n",
              "    .dataframe tbody tr th:only-of-type {\n",
              "        vertical-align: middle;\n",
              "    }\n",
              "\n",
              "    .dataframe tbody tr th {\n",
              "        vertical-align: top;\n",
              "    }\n",
              "\n",
              "    .dataframe thead th {\n",
              "        text-align: right;\n",
              "    }\n",
              "</style>\n",
              "<table border=\"1\" class=\"dataframe\">\n",
              "  <thead>\n",
              "    <tr style=\"text-align: right;\">\n",
              "      <th></th>\n",
              "      <th>category</th>\n",
              "      <th>event_name</th>\n",
              "      <th>gender</th>\n",
              "      <th>age</th>\n",
              "      <th>marital_status</th>\n",
              "      <th>session_id</th>\n",
              "      <th>device</th>\n",
              "      <th>client_time</th>\n",
              "      <th>location</th>\n",
              "      <th>amount</th>\n",
              "    </tr>\n",
              "  </thead>\n",
              "  <tbody>\n",
              "    <tr>\n",
              "      <th>0</th>\n",
              "      <td>Sports</td>\n",
              "      <td>View Project</td>\n",
              "      <td>M</td>\n",
              "      <td>18-24</td>\n",
              "      <td>married</td>\n",
              "      <td>69f62d2ae87640f5a2dde2b2e9229fe6</td>\n",
              "      <td>android</td>\n",
              "      <td>2014-03-01 00:00:04</td>\n",
              "      <td>{'latitude': 40.189788, 'city': 'Lyons', 'stat...</td>\n",
              "      <td>NaN</td>\n",
              "    </tr>\n",
              "    <tr>\n",
              "      <th>1</th>\n",
              "      <td>Technology</td>\n",
              "      <td>View Project</td>\n",
              "      <td>M</td>\n",
              "      <td>18-24</td>\n",
              "      <td>single</td>\n",
              "      <td>4459d001feb8438eae5f4ec24abcd992</td>\n",
              "      <td>iOS</td>\n",
              "      <td>2014-03-01 00:00:22</td>\n",
              "      <td>{'latitude': 33.844371, 'city': 'Alpharetta', ...</td>\n",
              "      <td>NaN</td>\n",
              "    </tr>\n",
              "    <tr>\n",
              "      <th>2</th>\n",
              "      <td>Environment</td>\n",
              "      <td>View Project</td>\n",
              "      <td>M</td>\n",
              "      <td>55+</td>\n",
              "      <td>single</td>\n",
              "      <td>0db9ed700a184d48a9d04806696e3642</td>\n",
              "      <td>iOS</td>\n",
              "      <td>2014-03-01 00:00:32</td>\n",
              "      <td>{'latitude': 42.446396, 'city': 'Westford', 's...</td>\n",
              "      <td>NaN</td>\n",
              "    </tr>\n",
              "    <tr>\n",
              "      <th>3</th>\n",
              "      <td>Technology</td>\n",
              "      <td>View Project</td>\n",
              "      <td>M</td>\n",
              "      <td>18-24</td>\n",
              "      <td>single</td>\n",
              "      <td>68195e2372bd4022b17220fc21de9138</td>\n",
              "      <td>android</td>\n",
              "      <td>2014-03-01 00:00:38</td>\n",
              "      <td>{'latitude': 44.624413, 'city': 'Saranac', 'st...</td>\n",
              "      <td>NaN</td>\n",
              "    </tr>\n",
              "    <tr>\n",
              "      <th>4</th>\n",
              "      <td>Sports</td>\n",
              "      <td>View Project</td>\n",
              "      <td>F</td>\n",
              "      <td>25-34</td>\n",
              "      <td>married</td>\n",
              "      <td>9508a8385dc94773baba8aa7d1c2aa75</td>\n",
              "      <td>iOS</td>\n",
              "      <td>2014-03-01 00:00:51</td>\n",
              "      <td>{'latitude': 36.747083, 'city': 'Lampe', 'stat...</td>\n",
              "      <td>NaN</td>\n",
              "    </tr>\n",
              "    <tr>\n",
              "      <th>5</th>\n",
              "      <td>Fashion</td>\n",
              "      <td>View Project</td>\n",
              "      <td>F</td>\n",
              "      <td>45-54</td>\n",
              "      <td>married</td>\n",
              "      <td>d420e0e6927c4bebaa580e99b00e52e9</td>\n",
              "      <td>iOS</td>\n",
              "      <td>2014-03-01 00:01:04</td>\n",
              "      <td>{'latitude': 41.47225, 'city': 'Cleveland', 's...</td>\n",
              "      <td>NaN</td>\n",
              "    </tr>\n",
              "    <tr>\n",
              "      <th>6</th>\n",
              "      <td>Games</td>\n",
              "      <td>View Project</td>\n",
              "      <td>F</td>\n",
              "      <td>35-44</td>\n",
              "      <td>single</td>\n",
              "      <td>0e00548eb6a54d2f8dbe2bdf6c8efb80</td>\n",
              "      <td>iOS</td>\n",
              "      <td>2014-03-01 00:02:17</td>\n",
              "      <td>{'latitude': 40.71924, 'city': 'Middle Village...</td>\n",
              "      <td>NaN</td>\n",
              "    </tr>\n",
              "    <tr>\n",
              "      <th>7</th>\n",
              "      <td>Technology</td>\n",
              "      <td>View Project</td>\n",
              "      <td>F</td>\n",
              "      <td>35-44</td>\n",
              "      <td>married</td>\n",
              "      <td>c6f18d84b43b4a4a90fa9a44016c3665</td>\n",
              "      <td>android</td>\n",
              "      <td>2014-03-01 00:02:18</td>\n",
              "      <td>{'latitude': 37.103768, 'city': 'Los Banos', '...</td>\n",
              "      <td>NaN</td>\n",
              "    </tr>\n",
              "    <tr>\n",
              "      <th>8</th>\n",
              "      <td>Fashion</td>\n",
              "      <td>View Project</td>\n",
              "      <td>F</td>\n",
              "      <td>45-54</td>\n",
              "      <td>married</td>\n",
              "      <td>2eb996fba97548b88f8ea5ec2484b34b</td>\n",
              "      <td>iOS</td>\n",
              "      <td>2014-03-01 00:02:25</td>\n",
              "      <td>{'latitude': 41.040988, 'city': 'Rochester', '...</td>\n",
              "      <td>NaN</td>\n",
              "    </tr>\n",
              "    <tr>\n",
              "      <th>9</th>\n",
              "      <td>Technology</td>\n",
              "      <td>View Project</td>\n",
              "      <td>F</td>\n",
              "      <td>45-54</td>\n",
              "      <td>married</td>\n",
              "      <td>e040fa23c3f84ad58ca59f1552fa3f0b</td>\n",
              "      <td>iOS</td>\n",
              "      <td>2014-03-01 00:02:39</td>\n",
              "      <td>{'latitude': 40.203459, 'city': 'Newtown', 'st...</td>\n",
              "      <td>NaN</td>\n",
              "    </tr>\n",
              "  </tbody>\n",
              "</table>\n",
              "</div>"
            ],
            "text/plain": [
              "      category  ... amount\n",
              "0       Sports  ...    NaN\n",
              "1   Technology  ...    NaN\n",
              "2  Environment  ...    NaN\n",
              "3   Technology  ...    NaN\n",
              "4       Sports  ...    NaN\n",
              "5      Fashion  ...    NaN\n",
              "6        Games  ...    NaN\n",
              "7   Technology  ...    NaN\n",
              "8      Fashion  ...    NaN\n",
              "9   Technology  ...    NaN\n",
              "\n",
              "[10 rows x 10 columns]"
            ]
          },
          "metadata": {
            "tags": []
          },
          "execution_count": 5
        }
      ]
    },
    {
      "cell_type": "markdown",
      "metadata": {
        "id": "1qFP2RSKFhAS",
        "colab_type": "text"
      },
      "source": [
        "Bar graph of event_name\n"
      ]
    },
    {
      "cell_type": "code",
      "metadata": {
        "id": "pxbu1KtsFd_I",
        "colab_type": "code",
        "colab": {
          "base_uri": "https://localhost:8080/",
          "height": 334
        },
        "outputId": "bc13a435-69fb-4f11-9fcf-dcee610d5422"
      },
      "source": [
        "df['event_name'].value_counts().plot(kind='bar')"
      ],
      "execution_count": 6,
      "outputs": [
        {
          "output_type": "execute_result",
          "data": {
            "text/plain": [
              "<matplotlib.axes._subplots.AxesSubplot at 0x7f3f6bcfeeb8>"
            ]
          },
          "metadata": {
            "tags": []
          },
          "execution_count": 6
        },
        {
          "output_type": "display_data",
          "data": {
            "image/png": "[encoded data removed]",
            "text/plain": [
              "<Figure size 432x288 with 1 Axes>"
            ]
          },
          "metadata": {
            "tags": [],
            "needs_background": "light"
          }
        }
      ]
    },
    {
      "cell_type": "markdown",
      "metadata": {
        "id": "SO4PTPCRHEfE",
        "colab_type": "text"
      },
      "source": [
        "**Null** **Values**"
      ]
    },
    {
      "cell_type": "code",
      "metadata": {
        "id": "AXW3VfWO9AA5",
        "colab_type": "code",
        "colab": {
          "base_uri": "https://localhost:8080/",
          "height": 218
        },
        "outputId": "06863164-7472-4ec6-9f97-633583c61d76"
      },
      "source": [
        "print('Data columns with null values:\\n',df.isnull().sum())"
      ],
      "execution_count": 7,
      "outputs": [
        {
          "output_type": "stream",
          "text": [
            "Data columns with null values:\n",
            " category              0\n",
            "event_name            0\n",
            "gender                0\n",
            "age                   0\n",
            "marital_status        0\n",
            "session_id            0\n",
            "device                0\n",
            "client_time           0\n",
            "location              0\n",
            "amount            29342\n",
            "dtype: int64\n"
          ],
          "name": "stdout"
        }
      ]
    },
    {
      "cell_type": "markdown",
      "metadata": {
        "id": "11DgQUTbHJav",
        "colab_type": "text"
      },
      "source": [
        "**Dropping Null values from Amount as we need the people who would invest**"
      ]
    },
    {
      "cell_type": "code",
      "metadata": {
        "id": "K3RWzXmhb7Yz",
        "colab_type": "code",
        "colab": {}
      },
      "source": [
        "df1 = df.dropna()"
      ],
      "execution_count": 8,
      "outputs": []
    },
    {
      "cell_type": "code",
      "metadata": {
        "id": "2P1_i9Szfp5Q",
        "colab_type": "code",
        "colab": {
          "base_uri": "https://localhost:8080/",
          "height": 252
        },
        "outputId": "2a6894e7-5189-4ad3-a244-b67cd8d7e5a6"
      },
      "source": [
        "print(df1)"
      ],
      "execution_count": 9,
      "outputs": [
        {
          "output_type": "stream",
          "text": [
            "          category  ... amount\n",
            "11         Fashion  ...   61.0\n",
            "16          Sports  ...   31.0\n",
            "18      Technology  ...   39.0\n",
            "25      Technology  ...   36.0\n",
            "35          Sports  ...   40.0\n",
            "...            ...  ...    ...\n",
            "49989       Sports  ...   37.0\n",
            "49992      Fashion  ...   25.0\n",
            "49994  Environment  ...   35.0\n",
            "49995       Sports  ...   35.0\n",
            "49998       Sports  ...   37.0\n",
            "\n",
            "[20658 rows x 10 columns]\n"
          ],
          "name": "stdout"
        }
      ]
    },
    {
      "cell_type": "code",
      "metadata": {
        "id": "KzvUw9ZXfvH6",
        "colab_type": "code",
        "colab": {
          "base_uri": "https://localhost:8080/",
          "height": 34
        },
        "outputId": "b8bc0cd0-0643-435f-d254-1139040f3342"
      },
      "source": [
        "df1.shape"
      ],
      "execution_count": 10,
      "outputs": [
        {
          "output_type": "execute_result",
          "data": {
            "text/plain": [
              "(20658, 10)"
            ]
          },
          "metadata": {
            "tags": []
          },
          "execution_count": 10
        }
      ]
    },
    {
      "cell_type": "code",
      "metadata": {
        "id": "-mk3QefYfxsp",
        "colab_type": "code",
        "colab": {}
      },
      "source": [
        "df2 = df['amount'].dropna()"
      ],
      "execution_count": 11,
      "outputs": []
    },
    {
      "cell_type": "code",
      "metadata": {
        "id": "LfWIRDYNgErA",
        "colab_type": "code",
        "colab": {
          "base_uri": "https://localhost:8080/",
          "height": 218
        },
        "outputId": "2657be34-a88d-498b-8ce4-dc20f55208e0"
      },
      "source": [
        "print(df2)"
      ],
      "execution_count": 12,
      "outputs": [
        {
          "output_type": "stream",
          "text": [
            "11       61.0\n",
            "16       31.0\n",
            "18       39.0\n",
            "25       36.0\n",
            "35       40.0\n",
            "         ... \n",
            "49989    37.0\n",
            "49992    25.0\n",
            "49994    35.0\n",
            "49995    35.0\n",
            "49998    37.0\n",
            "Name: amount, Length: 20658, dtype: float64\n"
          ],
          "name": "stdout"
        }
      ]
    },
    {
      "cell_type": "code",
      "metadata": {
        "id": "EKgBH9migEvs",
        "colab_type": "code",
        "colab": {
          "base_uri": "https://localhost:8080/",
          "height": 50
        },
        "outputId": "680001a3-7f3d-4c9c-876a-349725c2b3eb"
      },
      "source": [
        "df1['category'].unique()"
      ],
      "execution_count": 13,
      "outputs": [
        {
          "output_type": "execute_result",
          "data": {
            "text/plain": [
              "array(['Fashion', 'Sports', 'Technology', 'Games', 'Environment'],\n",
              "      dtype=object)"
            ]
          },
          "metadata": {
            "tags": []
          },
          "execution_count": 13
        }
      ]
    },
    {
      "cell_type": "code",
      "metadata": {
        "id": "CUDQ-YxhkR7U",
        "colab_type": "code",
        "colab": {
          "base_uri": "https://localhost:8080/",
          "height": 67
        },
        "outputId": "bebe006c-499c-4d4b-f8ba-69c8c693346d"
      },
      "source": [
        "df1.columns"
      ],
      "execution_count": 14,
      "outputs": [
        {
          "output_type": "execute_result",
          "data": {
            "text/plain": [
              "Index(['category', 'event_name', 'gender', 'age', 'marital_status',\n",
              "       'session_id', 'device', 'client_time', 'location', 'amount'],\n",
              "      dtype='object')"
            ]
          },
          "metadata": {
            "tags": []
          },
          "execution_count": 14
        }
      ]
    },
    {
      "cell_type": "markdown",
      "metadata": {
        "id": "_A6wbFzYHZvq",
        "colab_type": "text"
      },
      "source": [
        "**Filtering Category having Sports or Environment**"
      ]
    },
    {
      "cell_type": "code",
      "metadata": {
        "id": "CM8hMMbikdpT",
        "colab_type": "code",
        "colab": {}
      },
      "source": [
        "df3 = df1.query('category in [\"Sports\", \"Environment\"]')\n"
      ],
      "execution_count": 15,
      "outputs": []
    },
    {
      "cell_type": "code",
      "metadata": {
        "id": "GwApECB4oExf",
        "colab_type": "code",
        "colab": {
          "base_uri": "https://localhost:8080/",
          "height": 136
        },
        "outputId": "bc24fd43-94ac-421e-b43a-8c37515413e3"
      },
      "source": [
        "df3.groupby('category')[['amount']].mean()"
      ],
      "execution_count": 16,
      "outputs": [
        {
          "output_type": "execute_result",
          "data": {
            "text/html": [
              "<div>\n",
              "<style scoped>\n",
              "    .dataframe tbody tr th:only-of-type {\n",
              "        vertical-align: middle;\n",
              "    }\n",
              "\n",
              "    .dataframe tbody tr th {\n",
              "        vertical-align: top;\n",
              "    }\n",
              "\n",
              "    .dataframe thead th {\n",
              "        text-align: right;\n",
              "    }\n",
              "</style>\n",
              "<table border=\"1\" class=\"dataframe\">\n",
              "  <thead>\n",
              "    <tr style=\"text-align: right;\">\n",
              "      <th></th>\n",
              "      <th>amount</th>\n",
              "    </tr>\n",
              "    <tr>\n",
              "      <th>category</th>\n",
              "      <th></th>\n",
              "    </tr>\n",
              "  </thead>\n",
              "  <tbody>\n",
              "    <tr>\n",
              "      <th>Environment</th>\n",
              "      <td>39.710443</td>\n",
              "    </tr>\n",
              "    <tr>\n",
              "      <th>Sports</th>\n",
              "      <td>39.130893</td>\n",
              "    </tr>\n",
              "  </tbody>\n",
              "</table>\n",
              "</div>"
            ],
            "text/plain": [
              "                amount\n",
              "category              \n",
              "Environment  39.710443\n",
              "Sports       39.130893"
            ]
          },
          "metadata": {
            "tags": []
          },
          "execution_count": 16
        }
      ]
    },
    {
      "cell_type": "code",
      "metadata": {
        "id": "8R88Ny7mtoGl",
        "colab_type": "code",
        "colab": {
          "base_uri": "https://localhost:8080/",
          "height": 50
        },
        "outputId": "95584297-c06f-4968-ff5d-12fc3c5c39b1"
      },
      "source": [
        "df3['event_name'].value_counts()"
      ],
      "execution_count": 18,
      "outputs": [
        {
          "output_type": "execute_result",
          "data": {
            "text/plain": [
              "Fund Project    8268\n",
              "Name: event_name, dtype: int64"
            ]
          },
          "metadata": {
            "tags": []
          },
          "execution_count": 18
        }
      ]
    },
    {
      "cell_type": "code",
      "metadata": {
        "id": "bw_zkddI_VSw",
        "colab_type": "code",
        "colab": {
          "base_uri": "https://localhost:8080/",
          "height": 101
        },
        "outputId": "4b2aaff3-1f64-4fb4-97ce-f140f6a89978"
      },
      "source": [
        "gender = pd.crosstab(index    = df3['gender'],\n",
        "                     columns  = 'count')\n",
        "\n",
        "print(gender)"
      ],
      "execution_count": 19,
      "outputs": [
        {
          "output_type": "stream",
          "text": [
            "col_0   count\n",
            "gender       \n",
            "F        3893\n",
            "M        3751\n",
            "U         624\n"
          ],
          "name": "stdout"
        }
      ]
    },
    {
      "cell_type": "markdown",
      "metadata": {
        "id": "CkmKHkQRsALW",
        "colab_type": "text"
      },
      "source": [
        "**Bar Plot of Age,Gender vs amount (sum)**"
      ]
    },
    {
      "cell_type": "code",
      "metadata": {
        "id": "plkrQVtLHqts",
        "colab_type": "code",
        "colab": {
          "base_uri": "https://localhost:8080/",
          "height": 338
        },
        "outputId": "7f577c91-ed36-492d-d9fd-ed6523b07ee1"
      },
      "source": [
        "df3.groupby(['age','gender'])['amount'].aggregate(sum).plot(kind='bar')"
      ],
      "execution_count": 20,
      "outputs": [
        {
          "output_type": "execute_result",
          "data": {
            "text/plain": [
              "<matplotlib.axes._subplots.AxesSubplot at 0x7f3f6bc49400>"
            ]
          },
          "metadata": {
            "tags": []
          },
          "execution_count": 20
        },
        {
          "output_type": "display_data",
          "data": {
            "image/png": "[encoded data removed]",
            "text/plain": [
              "<Figure size 432x288 with 1 Axes>"
            ]
          },
          "metadata": {
            "tags": [],
            "needs_background": "light"
          }
        }
      ]
    },
    {
      "cell_type": "code",
      "metadata": {
        "id": "xNMrZtVk_wgi",
        "colab_type": "code",
        "colab": {}
      },
      "source": [
        "df4 = pd.concat([df3, df3['location'].apply(pd.Series)], axis = 1).drop('location', axis = 1)\n"
      ],
      "execution_count": 21,
      "outputs": []
    },
    {
      "cell_type": "code",
      "metadata": {
        "id": "tAm7Ml9KDjfA",
        "colab_type": "code",
        "colab": {
          "base_uri": "https://localhost:8080/",
          "height": 531
        },
        "outputId": "10ffc58e-539e-4721-dfee-d659be9c5185"
      },
      "source": [
        "df4.head(10)"
      ],
      "execution_count": 22,
      "outputs": [
        {
          "output_type": "execute_result",
          "data": {
            "text/html": [
              "<div>\n",
              "<style scoped>\n",
              "    .dataframe tbody tr th:only-of-type {\n",
              "        vertical-align: middle;\n",
              "    }\n",
              "\n",
              "    .dataframe tbody tr th {\n",
              "        vertical-align: top;\n",
              "    }\n",
              "\n",
              "    .dataframe thead th {\n",
              "        text-align: right;\n",
              "    }\n",
              "</style>\n",
              "<table border=\"1\" class=\"dataframe\">\n",
              "  <thead>\n",
              "    <tr style=\"text-align: right;\">\n",
              "      <th></th>\n",
              "      <th>category</th>\n",
              "      <th>event_name</th>\n",
              "      <th>gender</th>\n",
              "      <th>age</th>\n",
              "      <th>marital_status</th>\n",
              "      <th>session_id</th>\n",
              "      <th>device</th>\n",
              "      <th>client_time</th>\n",
              "      <th>amount</th>\n",
              "      <th>latitude</th>\n",
              "      <th>city</th>\n",
              "      <th>state</th>\n",
              "      <th>longitude</th>\n",
              "      <th>zip_code</th>\n",
              "    </tr>\n",
              "  </thead>\n",
              "  <tbody>\n",
              "    <tr>\n",
              "      <th>16</th>\n",
              "      <td>Sports</td>\n",
              "      <td>Fund Project</td>\n",
              "      <td>M</td>\n",
              "      <td>18-24</td>\n",
              "      <td>married</td>\n",
              "      <td>69f62d2ae87640f5a2dde2b2e9229fe6</td>\n",
              "      <td>android</td>\n",
              "      <td>2014-03-01 00:03:20</td>\n",
              "      <td>31.0</td>\n",
              "      <td>40.189788</td>\n",
              "      <td>Lyons</td>\n",
              "      <td>CO</td>\n",
              "      <td>-105.355280</td>\n",
              "      <td>80540</td>\n",
              "    </tr>\n",
              "    <tr>\n",
              "      <th>35</th>\n",
              "      <td>Sports</td>\n",
              "      <td>Fund Project</td>\n",
              "      <td>M</td>\n",
              "      <td>18-24</td>\n",
              "      <td>married</td>\n",
              "      <td>be389e9be0e74398adcef3292ac409ee</td>\n",
              "      <td>android</td>\n",
              "      <td>2014-03-01 00:06:35</td>\n",
              "      <td>40.0</td>\n",
              "      <td>45.408374</td>\n",
              "      <td>Lake Oswego</td>\n",
              "      <td>OR</td>\n",
              "      <td>-122.691388</td>\n",
              "      <td>97034</td>\n",
              "    </tr>\n",
              "    <tr>\n",
              "      <th>78</th>\n",
              "      <td>Sports</td>\n",
              "      <td>Fund Project</td>\n",
              "      <td>F</td>\n",
              "      <td>18-24</td>\n",
              "      <td>single</td>\n",
              "      <td>71ca342ead4f4da180da4f9b4baaf760</td>\n",
              "      <td>android</td>\n",
              "      <td>2014-03-01 00:18:38</td>\n",
              "      <td>53.0</td>\n",
              "      <td>33.844371</td>\n",
              "      <td>Alpharetta</td>\n",
              "      <td>GA</td>\n",
              "      <td>-84.474050</td>\n",
              "      <td>30009</td>\n",
              "    </tr>\n",
              "    <tr>\n",
              "      <th>100</th>\n",
              "      <td>Sports</td>\n",
              "      <td>Fund Project</td>\n",
              "      <td>F</td>\n",
              "      <td>18-24</td>\n",
              "      <td>married</td>\n",
              "      <td>a1fdfe0bebed4510a9059bcfb3ba1325</td>\n",
              "      <td>iOS</td>\n",
              "      <td>2014-03-01 00:24:18</td>\n",
              "      <td>48.0</td>\n",
              "      <td>33.794055</td>\n",
              "      <td>Atlanta</td>\n",
              "      <td>GA</td>\n",
              "      <td>-84.377326</td>\n",
              "      <td>30308</td>\n",
              "    </tr>\n",
              "    <tr>\n",
              "      <th>131</th>\n",
              "      <td>Sports</td>\n",
              "      <td>Fund Project</td>\n",
              "      <td>M</td>\n",
              "      <td>45-54</td>\n",
              "      <td>single</td>\n",
              "      <td>d23a964e8656403b853eb2a24139c408</td>\n",
              "      <td>android</td>\n",
              "      <td>2014-03-01 00:31:01</td>\n",
              "      <td>27.0</td>\n",
              "      <td>39.102704</td>\n",
              "      <td>Kansas City</td>\n",
              "      <td>MO</td>\n",
              "      <td>-94.595033</td>\n",
              "      <td>64105</td>\n",
              "    </tr>\n",
              "    <tr>\n",
              "      <th>183</th>\n",
              "      <td>Sports</td>\n",
              "      <td>Fund Project</td>\n",
              "      <td>F</td>\n",
              "      <td>25-34</td>\n",
              "      <td>married</td>\n",
              "      <td>9508a8385dc94773baba8aa7d1c2aa75</td>\n",
              "      <td>iOS</td>\n",
              "      <td>2014-03-01 00:42:17</td>\n",
              "      <td>31.0</td>\n",
              "      <td>36.747083</td>\n",
              "      <td>Lampe</td>\n",
              "      <td>MO</td>\n",
              "      <td>-93.458626</td>\n",
              "      <td>65681</td>\n",
              "    </tr>\n",
              "    <tr>\n",
              "      <th>191</th>\n",
              "      <td>Environment</td>\n",
              "      <td>Fund Project</td>\n",
              "      <td>U</td>\n",
              "      <td>35-44</td>\n",
              "      <td>single</td>\n",
              "      <td>c77ef08290084a41b832e365ecb6ca2a</td>\n",
              "      <td>iOS</td>\n",
              "      <td>2014-03-01 00:43:27</td>\n",
              "      <td>27.0</td>\n",
              "      <td>27.420316</td>\n",
              "      <td>Okeechobee</td>\n",
              "      <td>FL</td>\n",
              "      <td>-80.945361</td>\n",
              "      <td>34972</td>\n",
              "    </tr>\n",
              "    <tr>\n",
              "      <th>205</th>\n",
              "      <td>Sports</td>\n",
              "      <td>Fund Project</td>\n",
              "      <td>M</td>\n",
              "      <td>18-24</td>\n",
              "      <td>single</td>\n",
              "      <td>95ea20d2293542b7afacfae80b3ddcbb</td>\n",
              "      <td>android</td>\n",
              "      <td>2014-03-01 00:49:05</td>\n",
              "      <td>39.0</td>\n",
              "      <td>45.408374</td>\n",
              "      <td>Lake Oswego</td>\n",
              "      <td>OR</td>\n",
              "      <td>-122.691388</td>\n",
              "      <td>97034</td>\n",
              "    </tr>\n",
              "    <tr>\n",
              "      <th>215</th>\n",
              "      <td>Environment</td>\n",
              "      <td>Fund Project</td>\n",
              "      <td>F</td>\n",
              "      <td>18-24</td>\n",
              "      <td>single</td>\n",
              "      <td>6376b261544043afa60465337704aaca</td>\n",
              "      <td>android</td>\n",
              "      <td>2014-03-01 00:51:20</td>\n",
              "      <td>50.0</td>\n",
              "      <td>33.834989</td>\n",
              "      <td>Atlanta</td>\n",
              "      <td>GA</td>\n",
              "      <td>-84.386826</td>\n",
              "      <td>30305</td>\n",
              "    </tr>\n",
              "    <tr>\n",
              "      <th>289</th>\n",
              "      <td>Sports</td>\n",
              "      <td>Fund Project</td>\n",
              "      <td>M</td>\n",
              "      <td>35-44</td>\n",
              "      <td>married</td>\n",
              "      <td>0d3a9a26b122463f85f829f61d3cf3c1</td>\n",
              "      <td>iOS</td>\n",
              "      <td>2014-03-01 01:08:33</td>\n",
              "      <td>46.0</td>\n",
              "      <td>40.867036</td>\n",
              "      <td>Denver</td>\n",
              "      <td>IN</td>\n",
              "      <td>-86.075240</td>\n",
              "      <td>46926</td>\n",
              "    </tr>\n",
              "  </tbody>\n",
              "</table>\n",
              "</div>"
            ],
            "text/plain": [
              "        category    event_name gender  ... state   longitude zip_code\n",
              "16        Sports  Fund Project      M  ...    CO -105.355280    80540\n",
              "35        Sports  Fund Project      M  ...    OR -122.691388    97034\n",
              "78        Sports  Fund Project      F  ...    GA  -84.474050    30009\n",
              "100       Sports  Fund Project      F  ...    GA  -84.377326    30308\n",
              "131       Sports  Fund Project      M  ...    MO  -94.595033    64105\n",
              "183       Sports  Fund Project      F  ...    MO  -93.458626    65681\n",
              "191  Environment  Fund Project      U  ...    FL  -80.945361    34972\n",
              "205       Sports  Fund Project      M  ...    OR -122.691388    97034\n",
              "215  Environment  Fund Project      F  ...    GA  -84.386826    30305\n",
              "289       Sports  Fund Project      M  ...    IN  -86.075240    46926\n",
              "\n",
              "[10 rows x 14 columns]"
            ]
          },
          "metadata": {
            "tags": []
          },
          "execution_count": 22
        }
      ]
    },
    {
      "cell_type": "code",
      "metadata": {
        "id": "ylG5U2n9KS6J",
        "colab_type": "code",
        "colab": {}
      },
      "source": [
        "pip install git+git://github.com/geopandas/geopandas.git"
      ],
      "execution_count": null,
      "outputs": []
    },
    {
      "cell_type": "markdown",
      "metadata": {
        "id": "n6CHfiXII3kw",
        "colab_type": "text"
      },
      "source": [
        "**Locations shown on the Map**"
      ]
    },
    {
      "cell_type": "code",
      "metadata": {
        "id": "FLBFfNAuJxs3",
        "colab_type": "code",
        "colab": {
          "base_uri": "https://localhost:8080/",
          "height": 332
        },
        "outputId": "05673492-8a8e-45fc-eb7d-1944dfbdd756"
      },
      "source": [
        "from shapely.geometry import Point\n",
        "import geopandas as gpd\n",
        "from geopandas import GeoDataFrame\n",
        "print('The locations of the people surveyed: ')\n",
        "geometry = [Point(xy) for xy in zip(df4['longitude'], df4['latitude'])]\n",
        "g_df = GeoDataFrame(df4, geometry=geometry)   \n",
        "\n",
        "world = gpd.read_file(gpd.datasets.get_path('naturalearth_lowres'))\n",
        "g_df.plot(ax=world[world.continent == 'North America'].plot(figsize=(10, 6)), marker='+', color='orange', markersize=12);"
      ],
      "execution_count": 24,
      "outputs": [
        {
          "output_type": "stream",
          "text": [
            "The locations of the people surveyed: \n"
          ],
          "name": "stdout"
        },
        {
          "output_type": "display_data",
          "data": {
            "image/png": "[encoded data removed]",
            "text/plain": [
              "<Figure size 720x432 with 1 Axes>"
            ]
          },
          "metadata": {
            "tags": [],
            "needs_background": "light"
          }
        }
      ]
    },
    {
      "cell_type": "code",
      "metadata": {
        "id": "FmXjWp2XSKIE",
        "colab_type": "code",
        "colab": {
          "base_uri": "https://localhost:8080/",
          "height": 67
        },
        "outputId": "87741731-68eb-4b19-a795-d0e914d7b8c6"
      },
      "source": [
        "df4['marital_status'].value_counts()"
      ],
      "execution_count": 25,
      "outputs": [
        {
          "output_type": "execute_result",
          "data": {
            "text/plain": [
              "married    5393\n",
              "single     2875\n",
              "Name: marital_status, dtype: int64"
            ]
          },
          "metadata": {
            "tags": []
          },
          "execution_count": 25
        }
      ]
    },
    {
      "cell_type": "markdown",
      "metadata": {
        "id": "qSXYojDiKLHo",
        "colab_type": "text"
      },
      "source": [
        "**Bar Plot of marital_status and amount**"
      ]
    },
    {
      "cell_type": "code",
      "metadata": {
        "id": "VVUfPs-gIqKN",
        "colab_type": "code",
        "colab": {
          "base_uri": "https://localhost:8080/",
          "height": 326
        },
        "outputId": "02fd0122-2cb6-469a-a6c8-02ea2e7b2113"
      },
      "source": [
        "df4.groupby('marital_status')['amount'].aggregate(sum).plot(kind='bar')"
      ],
      "execution_count": 26,
      "outputs": [
        {
          "output_type": "execute_result",
          "data": {
            "text/plain": [
              "<matplotlib.axes._subplots.AxesSubplot at 0x7f3f6abb84a8>"
            ]
          },
          "metadata": {
            "tags": []
          },
          "execution_count": 26
        },
        {
          "output_type": "display_data",
          "data": {
            "image/png": "[encoded data removed]",
            "text/plain": [
              "<Figure size 432x288 with 1 Axes>"
            ]
          },
          "metadata": {
            "tags": [],
            "needs_background": "light"
          }
        }
      ]
    },
    {
      "cell_type": "code",
      "metadata": {
        "id": "g1CE_Z8rSR_u",
        "colab_type": "code",
        "colab": {
          "base_uri": "https://localhost:8080/",
          "height": 118
        },
        "outputId": "c7e93ea6-6ceb-44f4-d4ad-0d079123ebd7"
      },
      "source": [
        "df4['age'].value_counts()"
      ],
      "execution_count": 27,
      "outputs": [
        {
          "output_type": "execute_result",
          "data": {
            "text/plain": [
              "18-24    4186\n",
              "35-44    1032\n",
              "45-54    1031\n",
              "55+      1014\n",
              "25-34    1005\n",
              "Name: age, dtype: int64"
            ]
          },
          "metadata": {
            "tags": []
          },
          "execution_count": 27
        }
      ]
    },
    {
      "cell_type": "code",
      "metadata": {
        "id": "p_DYb6K1TPlO",
        "colab_type": "code",
        "colab": {
          "base_uri": "https://localhost:8080/",
          "height": 225
        },
        "outputId": "6872cc6c-1371-4ae8-918d-23e54bdb0d6f"
      },
      "source": [
        "df4.groupby('age')[['amount']].sum()"
      ],
      "execution_count": 28,
      "outputs": [
        {
          "output_type": "execute_result",
          "data": {
            "text/html": [
              "<div>\n",
              "<style scoped>\n",
              "    .dataframe tbody tr th:only-of-type {\n",
              "        vertical-align: middle;\n",
              "    }\n",
              "\n",
              "    .dataframe tbody tr th {\n",
              "        vertical-align: top;\n",
              "    }\n",
              "\n",
              "    .dataframe thead th {\n",
              "        text-align: right;\n",
              "    }\n",
              "</style>\n",
              "<table border=\"1\" class=\"dataframe\">\n",
              "  <thead>\n",
              "    <tr style=\"text-align: right;\">\n",
              "      <th></th>\n",
              "      <th>amount</th>\n",
              "    </tr>\n",
              "    <tr>\n",
              "      <th>age</th>\n",
              "      <th></th>\n",
              "    </tr>\n",
              "  </thead>\n",
              "  <tbody>\n",
              "    <tr>\n",
              "      <th>18-24</th>\n",
              "      <td>164588.0</td>\n",
              "    </tr>\n",
              "    <tr>\n",
              "      <th>25-34</th>\n",
              "      <td>40063.0</td>\n",
              "    </tr>\n",
              "    <tr>\n",
              "      <th>35-44</th>\n",
              "      <td>41149.0</td>\n",
              "    </tr>\n",
              "    <tr>\n",
              "      <th>45-54</th>\n",
              "      <td>39886.0</td>\n",
              "    </tr>\n",
              "    <tr>\n",
              "      <th>55+</th>\n",
              "      <td>40218.0</td>\n",
              "    </tr>\n",
              "  </tbody>\n",
              "</table>\n",
              "</div>"
            ],
            "text/plain": [
              "         amount\n",
              "age            \n",
              "18-24  164588.0\n",
              "25-34   40063.0\n",
              "35-44   41149.0\n",
              "45-54   39886.0\n",
              "55+     40218.0"
            ]
          },
          "metadata": {
            "tags": []
          },
          "execution_count": 28
        }
      ]
    },
    {
      "cell_type": "markdown",
      "metadata": {
        "id": "QKwYibMrKP8H",
        "colab_type": "text"
      },
      "source": [
        "Bar plot of age and amount"
      ]
    },
    {
      "cell_type": "code",
      "metadata": {
        "id": "Lt15DJlzJFmT",
        "colab_type": "code",
        "colab": {
          "base_uri": "https://localhost:8080/",
          "height": 315
        },
        "outputId": "7a30683f-2382-4777-b905-19534bf1ea5c"
      },
      "source": [
        "df4.groupby('age')['amount'].aggregate(sum).plot(kind='bar')"
      ],
      "execution_count": 29,
      "outputs": [
        {
          "output_type": "execute_result",
          "data": {
            "text/plain": [
              "<matplotlib.axes._subplots.AxesSubplot at 0x7f3f6b264240>"
            ]
          },
          "metadata": {
            "tags": []
          },
          "execution_count": 29
        },
        {
          "output_type": "display_data",
          "data": {
            "image/png": "[encoded data removed]",
            "text/plain": [
              "<Figure size 432x288 with 1 Axes>"
            ]
          },
          "metadata": {
            "tags": [],
            "needs_background": "light"
          }
        }
      ]
    },
    {
      "cell_type": "code",
      "metadata": {
        "id": "6p0xzeBTLl9y",
        "colab_type": "code",
        "colab": {
          "base_uri": "https://localhost:8080/",
          "height": 67
        },
        "outputId": "c30fb40f-4325-4cf7-c077-03fe815f1795"
      },
      "source": [
        "df4['device'].value_counts()"
      ],
      "execution_count": 30,
      "outputs": [
        {
          "output_type": "execute_result",
          "data": {
            "text/plain": [
              "iOS        5375\n",
              "android    2893\n",
              "Name: device, dtype: int64"
            ]
          },
          "metadata": {
            "tags": []
          },
          "execution_count": 30
        }
      ]
    },
    {
      "cell_type": "code",
      "metadata": {
        "id": "Qh0NHWNgLXOj",
        "colab_type": "code",
        "colab": {
          "base_uri": "https://localhost:8080/",
          "height": 136
        },
        "outputId": "0df47445-626f-41f6-ec6b-b1c3b98ad122"
      },
      "source": [
        "df4.groupby('device')[['amount']].sum()"
      ],
      "execution_count": 31,
      "outputs": [
        {
          "output_type": "execute_result",
          "data": {
            "text/html": [
              "<div>\n",
              "<style scoped>\n",
              "    .dataframe tbody tr th:only-of-type {\n",
              "        vertical-align: middle;\n",
              "    }\n",
              "\n",
              "    .dataframe tbody tr th {\n",
              "        vertical-align: top;\n",
              "    }\n",
              "\n",
              "    .dataframe thead th {\n",
              "        text-align: right;\n",
              "    }\n",
              "</style>\n",
              "<table border=\"1\" class=\"dataframe\">\n",
              "  <thead>\n",
              "    <tr style=\"text-align: right;\">\n",
              "      <th></th>\n",
              "      <th>amount</th>\n",
              "    </tr>\n",
              "    <tr>\n",
              "      <th>device</th>\n",
              "      <th></th>\n",
              "    </tr>\n",
              "  </thead>\n",
              "  <tbody>\n",
              "    <tr>\n",
              "      <th>android</th>\n",
              "      <td>114747.0</td>\n",
              "    </tr>\n",
              "    <tr>\n",
              "      <th>iOS</th>\n",
              "      <td>211157.0</td>\n",
              "    </tr>\n",
              "  </tbody>\n",
              "</table>\n",
              "</div>"
            ],
            "text/plain": [
              "           amount\n",
              "device           \n",
              "android  114747.0\n",
              "iOS      211157.0"
            ]
          },
          "metadata": {
            "tags": []
          },
          "execution_count": 31
        }
      ]
    },
    {
      "cell_type": "markdown",
      "metadata": {
        "id": "e0UnCN_0Wt3k",
        "colab_type": "text"
      },
      "source": [
        "**Bar Plot of Device vs Amount**"
      ]
    },
    {
      "cell_type": "code",
      "metadata": {
        "id": "-Kp7mLMlKdUq",
        "colab_type": "code",
        "colab": {
          "base_uri": "https://localhost:8080/",
          "height": 324
        },
        "outputId": "6ef775af-b859-4e1a-dcb3-31158609207f"
      },
      "source": [
        "df4.groupby('device')['amount'].aggregate(sum).plot(kind='bar')"
      ],
      "execution_count": 32,
      "outputs": [
        {
          "output_type": "execute_result",
          "data": {
            "text/plain": [
              "<matplotlib.axes._subplots.AxesSubplot at 0x7f3f6b2780f0>"
            ]
          },
          "metadata": {
            "tags": []
          },
          "execution_count": 32
        },
        {
          "output_type": "display_data",
          "data": {
            "image/png": "[encoded data removed]",
            "text/plain": [
              "<Figure size 432x288 with 1 Axes>"
            ]
          },
          "metadata": {
            "tags": [],
            "needs_background": "light"
          }
        }
      ]
    },
    {
      "cell_type": "code",
      "metadata": {
        "id": "Yi9CEWuEeWUP",
        "colab_type": "code",
        "colab": {}
      },
      "source": [
        "!pip install folium"
      ],
      "execution_count": null,
      "outputs": []
    },
    {
      "cell_type": "code",
      "metadata": {
        "id": "tYoGJFGkabk_",
        "colab_type": "code",
        "colab": {
          "base_uri": "https://localhost:8080/",
          "height": 431
        },
        "outputId": "eeb21508-bd07-498e-f2a1-fff65de76e15"
      },
      "source": [
        "df6 =df4.groupby(['state','age'])[['amount']].aggregate(sum)\n",
        "df6"
      ],
      "execution_count": 34,
      "outputs": [
        {
          "output_type": "execute_result",
          "data": {
            "text/html": [
              "<div>\n",
              "<style scoped>\n",
              "    .dataframe tbody tr th:only-of-type {\n",
              "        vertical-align: middle;\n",
              "    }\n",
              "\n",
              "    .dataframe tbody tr th {\n",
              "        vertical-align: top;\n",
              "    }\n",
              "\n",
              "    .dataframe thead th {\n",
              "        text-align: right;\n",
              "    }\n",
              "</style>\n",
              "<table border=\"1\" class=\"dataframe\">\n",
              "  <thead>\n",
              "    <tr style=\"text-align: right;\">\n",
              "      <th></th>\n",
              "      <th></th>\n",
              "      <th>amount</th>\n",
              "    </tr>\n",
              "    <tr>\n",
              "      <th>state</th>\n",
              "      <th>age</th>\n",
              "      <th></th>\n",
              "    </tr>\n",
              "  </thead>\n",
              "  <tbody>\n",
              "    <tr>\n",
              "      <th rowspan=\"2\" valign=\"top\">AK</th>\n",
              "      <th>45-54</th>\n",
              "      <td>82.0</td>\n",
              "    </tr>\n",
              "    <tr>\n",
              "      <th>55+</th>\n",
              "      <td>57.0</td>\n",
              "    </tr>\n",
              "    <tr>\n",
              "      <th rowspan=\"3\" valign=\"top\">AL</th>\n",
              "      <th>18-24</th>\n",
              "      <td>416.0</td>\n",
              "    </tr>\n",
              "    <tr>\n",
              "      <th>25-34</th>\n",
              "      <td>483.0</td>\n",
              "    </tr>\n",
              "    <tr>\n",
              "      <th>35-44</th>\n",
              "      <td>635.0</td>\n",
              "    </tr>\n",
              "    <tr>\n",
              "      <th>...</th>\n",
              "      <th>...</th>\n",
              "      <td>...</td>\n",
              "    </tr>\n",
              "    <tr>\n",
              "      <th rowspan=\"3\" valign=\"top\">WV</th>\n",
              "      <th>35-44</th>\n",
              "      <td>222.0</td>\n",
              "    </tr>\n",
              "    <tr>\n",
              "      <th>45-54</th>\n",
              "      <td>101.0</td>\n",
              "    </tr>\n",
              "    <tr>\n",
              "      <th>55+</th>\n",
              "      <td>37.0</td>\n",
              "    </tr>\n",
              "    <tr>\n",
              "      <th rowspan=\"2\" valign=\"top\">WY</th>\n",
              "      <th>35-44</th>\n",
              "      <td>83.0</td>\n",
              "    </tr>\n",
              "    <tr>\n",
              "      <th>45-54</th>\n",
              "      <td>107.0</td>\n",
              "    </tr>\n",
              "  </tbody>\n",
              "</table>\n",
              "<p>240 rows × 1 columns</p>\n",
              "</div>"
            ],
            "text/plain": [
              "             amount\n",
              "state age          \n",
              "AK    45-54    82.0\n",
              "      55+      57.0\n",
              "AL    18-24   416.0\n",
              "      25-34   483.0\n",
              "      35-44   635.0\n",
              "...             ...\n",
              "WV    35-44   222.0\n",
              "      45-54   101.0\n",
              "      55+      37.0\n",
              "WY    35-44    83.0\n",
              "      45-54   107.0\n",
              "\n",
              "[240 rows x 1 columns]"
            ]
          },
          "metadata": {
            "tags": []
          },
          "execution_count": 34
        }
      ]
    },
    {
      "cell_type": "code",
      "metadata": {
        "id": "0vVtUc0g0xVT",
        "colab_type": "code",
        "colab": {
          "base_uri": "https://localhost:8080/",
          "height": 134
        },
        "outputId": "6b280f48-98e2-4d1e-9993-f972fff387be"
      },
      "source": [
        "df5 = df4.groupby('state')['amount'].aggregate(sum)\n",
        "df5.head()"
      ],
      "execution_count": 35,
      "outputs": [
        {
          "output_type": "execute_result",
          "data": {
            "text/plain": [
              "state\n",
              "AK      139.0\n",
              "AL     3352.0\n",
              "AR     1424.0\n",
              "AZ     2496.0\n",
              "CA    16584.0\n",
              "Name: amount, dtype: float64"
            ]
          },
          "metadata": {
            "tags": []
          },
          "execution_count": 35
        }
      ]
    },
    {
      "cell_type": "markdown",
      "metadata": {
        "id": "IC9JGHVfj5dJ",
        "colab_type": "text"
      },
      "source": [
        "**The Total Amount donated in every State:**"
      ]
    },
    {
      "cell_type": "code",
      "metadata": {
        "id": "btuX_R1weiM1",
        "colab_type": "code",
        "colab": {
          "base_uri": "https://localhost:8080/",
          "height": 502
        },
        "outputId": "6aae0f48-fe43-4f95-f4ad-023e7a0a4d3d"
      },
      "source": [
        "import folium\n",
        "import os\n",
        "url = 'https://raw.githubusercontent.com/python-visualization/folium/master/examples/data/'\n",
        "\n",
        "state_geo = f'{url}/us-states.json'\n",
        "\n",
        "map = folium.Map(location=[42, -102], zoom_start=5)\n",
        "\n",
        "folium.Choropleth(\n",
        " geo_data=state_geo,\n",
        " name='choropleth',\n",
        " data=df5,\n",
        " columns=['state', 'amount'],\n",
        " key_on='feature.id',\n",
        " fill_color='YlOrRd',\n",
        " fill_opacity=0.7,\n",
        " line_opacity=0.2,\n",
        " legend_name='Amount according to the states'\n",
        ").add_to(map)\n",
        "\n",
        "folium.LayerControl().add_to(map)\n",
        "\n",
        "map\n"
      ],
      "execution_count": 36,
      "outputs": [
        {
          "output_type": "execute_result",
          "data": {
            "text/html": [
              "<div style=\"width:100%;\"><div style=\"position:relative;width:100%;height:0;padding-bottom:60%;\"><span style=\"color:#565656\">Make this Notebook Trusted to load map: File -> Trust Notebook</span><iframe src=\"about:blank\" style=\"position:absolute;width:100%;height:100%;left:0;top:0;border:none !important;\" data-html=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 onload=\"this.contentDocument.open();this.contentDocument.write(atob(this.getAttribute('data-html')));this.contentDocument.close();\" allowfullscreen webkitallowfullscreen mozallowfullscreen></iframe></div></div>"
            ],
            "text/plain": [
              "<folium.folium.Map at 0x7f3f6b2e7438>"
            ]
          },
          "metadata": {
            "tags": []
          },
          "execution_count": 36
        }
      ]
    },
    {
      "cell_type": "code",
      "metadata": {
        "id": "5CUSDMq4I4b1",
        "colab_type": "code",
        "colab": {
          "base_uri": "https://localhost:8080/",
          "height": 343
        },
        "outputId": "80718131-a2d6-4c4f-fae1-30802784f34a"
      },
      "source": [
        "grouped_by_age_states = df4.groupby(['age','state'])['amount'].sum().reset_index()\n",
        "grouped_by_age_states.sort_values('amount', ascending=False).head(10)\n"
      ],
      "execution_count": 37,
      "outputs": [
        {
          "output_type": "execute_result",
          "data": {
            "text/html": [
              "<div>\n",
              "<style scoped>\n",
              "    .dataframe tbody tr th:only-of-type {\n",
              "        vertical-align: middle;\n",
              "    }\n",
              "\n",
              "    .dataframe tbody tr th {\n",
              "        vertical-align: top;\n",
              "    }\n",
              "\n",
              "    .dataframe thead th {\n",
              "        text-align: right;\n",
              "    }\n",
              "</style>\n",
              "<table border=\"1\" class=\"dataframe\">\n",
              "  <thead>\n",
              "    <tr style=\"text-align: right;\">\n",
              "      <th></th>\n",
              "      <th>age</th>\n",
              "      <th>state</th>\n",
              "      <th>amount</th>\n",
              "    </tr>\n",
              "  </thead>\n",
              "  <tbody>\n",
              "    <tr>\n",
              "      <th>9</th>\n",
              "      <td>18-24</td>\n",
              "      <td>GA</td>\n",
              "      <td>46930.0</td>\n",
              "    </tr>\n",
              "    <tr>\n",
              "      <th>35</th>\n",
              "      <td>18-24</td>\n",
              "      <td>OR</td>\n",
              "      <td>43454.0</td>\n",
              "    </tr>\n",
              "    <tr>\n",
              "      <th>4</th>\n",
              "      <td>18-24</td>\n",
              "      <td>CO</td>\n",
              "      <td>35241.0</td>\n",
              "    </tr>\n",
              "    <tr>\n",
              "      <th>61</th>\n",
              "      <td>25-34</td>\n",
              "      <td>IN</td>\n",
              "      <td>13877.0</td>\n",
              "    </tr>\n",
              "    <tr>\n",
              "      <th>207</th>\n",
              "      <td>55+</td>\n",
              "      <td>IN</td>\n",
              "      <td>12436.0</td>\n",
              "    </tr>\n",
              "    <tr>\n",
              "      <th>14</th>\n",
              "      <td>18-24</td>\n",
              "      <td>IN</td>\n",
              "      <td>11694.0</td>\n",
              "    </tr>\n",
              "    <tr>\n",
              "      <th>109</th>\n",
              "      <td>35-44</td>\n",
              "      <td>IN</td>\n",
              "      <td>11284.0</td>\n",
              "    </tr>\n",
              "    <tr>\n",
              "      <th>157</th>\n",
              "      <td>45-54</td>\n",
              "      <td>IN</td>\n",
              "      <td>10952.0</td>\n",
              "    </tr>\n",
              "    <tr>\n",
              "      <th>51</th>\n",
              "      <td>25-34</td>\n",
              "      <td>CA</td>\n",
              "      <td>3724.0</td>\n",
              "    </tr>\n",
              "    <tr>\n",
              "      <th>148</th>\n",
              "      <td>45-54</td>\n",
              "      <td>CA</td>\n",
              "      <td>3687.0</td>\n",
              "    </tr>\n",
              "  </tbody>\n",
              "</table>\n",
              "</div>"
            ],
            "text/plain": [
              "       age state   amount\n",
              "9    18-24    GA  46930.0\n",
              "35   18-24    OR  43454.0\n",
              "4    18-24    CO  35241.0\n",
              "61   25-34    IN  13877.0\n",
              "207    55+    IN  12436.0\n",
              "14   18-24    IN  11694.0\n",
              "109  35-44    IN  11284.0\n",
              "157  45-54    IN  10952.0\n",
              "51   25-34    CA   3724.0\n",
              "148  45-54    CA   3687.0"
            ]
          },
          "metadata": {
            "tags": []
          },
          "execution_count": 37
        }
      ]
    }
  ]
}